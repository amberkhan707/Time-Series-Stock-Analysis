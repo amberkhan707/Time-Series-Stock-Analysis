{
 "cells": [
  {
   "cell_type": "code",
   "execution_count": 7,
   "id": "c88112ac-e13a-4125-85b0-978473e61bc7",
   "metadata": {},
   "outputs": [
    {
     "name": "stdout",
     "output_type": "stream",
     "text": [
      "Collecting investpy\n",
      "  Downloading investpy-1.0.8.tar.gz (4.4 MB)\n",
      "     ---------------------------------------- 0.0/4.4 MB ? eta -:--:--\n",
      "     --------------------- ------------------ 2.4/4.4 MB 12.3 MB/s eta 0:00:01\n",
      "     -------------------------------------- - 4.2/4.4 MB 14.8 MB/s eta 0:00:01\n",
      "     -------------------------------------- - 4.2/4.4 MB 14.8 MB/s eta 0:00:01\n",
      "     ---------------------------------------- 4.4/4.4 MB 5.7 MB/s eta 0:00:00\n",
      "  Preparing metadata (setup.py): started\n",
      "  Preparing metadata (setup.py): finished with status 'done'\n",
      "Requirement already satisfied: Unidecode>=1.1.1 in c:\\users\\mdamb\\anaconda3\\lib\\site-packages (from investpy) (1.3.8)\n",
      "Requirement already satisfied: setuptools>=41.2.0 in c:\\users\\mdamb\\anaconda3\\lib\\site-packages (from investpy) (75.1.0)\n",
      "Requirement already satisfied: numpy>=1.17.2 in c:\\users\\mdamb\\anaconda3\\lib\\site-packages (from investpy) (1.26.4)\n",
      "Requirement already satisfied: pandas>=0.25.1 in c:\\users\\mdamb\\anaconda3\\lib\\site-packages (from investpy) (2.2.2)\n",
      "Requirement already satisfied: lxml>=4.4.1 in c:\\users\\mdamb\\anaconda3\\lib\\site-packages (from investpy) (5.2.1)\n",
      "Requirement already satisfied: requests>=2.22.0 in c:\\users\\mdamb\\anaconda3\\lib\\site-packages (from investpy) (2.32.3)\n",
      "Requirement already satisfied: pytz>=2019.3 in c:\\users\\mdamb\\anaconda3\\lib\\site-packages (from investpy) (2024.1)\n",
      "Requirement already satisfied: python-dateutil>=2.8.2 in c:\\users\\mdamb\\anaconda3\\lib\\site-packages (from pandas>=0.25.1->investpy) (2.9.0.post0)\n",
      "Requirement already satisfied: tzdata>=2022.7 in c:\\users\\mdamb\\anaconda3\\lib\\site-packages (from pandas>=0.25.1->investpy) (2023.3)\n",
      "Requirement already satisfied: charset-normalizer<4,>=2 in c:\\users\\mdamb\\anaconda3\\lib\\site-packages (from requests>=2.22.0->investpy) (3.3.2)\n",
      "Requirement already satisfied: idna<4,>=2.5 in c:\\users\\mdamb\\anaconda3\\lib\\site-packages (from requests>=2.22.0->investpy) (3.7)\n",
      "Requirement already satisfied: urllib3<3,>=1.21.1 in c:\\users\\mdamb\\anaconda3\\lib\\site-packages (from requests>=2.22.0->investpy) (2.2.3)\n",
      "Requirement already satisfied: certifi>=2017.4.17 in c:\\users\\mdamb\\anaconda3\\lib\\site-packages (from requests>=2.22.0->investpy) (2025.1.31)\n",
      "Requirement already satisfied: six>=1.5 in c:\\users\\mdamb\\anaconda3\\lib\\site-packages (from python-dateutil>=2.8.2->pandas>=0.25.1->investpy) (1.16.0)\n",
      "Building wheels for collected packages: investpy\n",
      "  Building wheel for investpy (setup.py): started\n",
      "  Building wheel for investpy (setup.py): finished with status 'done'\n",
      "  Created wheel for investpy: filename=investpy-1.0.8-py3-none-any.whl size=4481627 sha256=4a3591ef6b1d22147de0dc847c7c7d07f0c47958f7b940a358d74a166028802e\n",
      "  Stored in directory: c:\\users\\mdamb\\appdata\\local\\pip\\cache\\wheels\\dd\\f4\\e0\\4807b8928ec08b376e1e1f1e1cc597a747cdd8356c37ee618f\n",
      "Successfully built investpy\n",
      "Installing collected packages: investpy\n",
      "Successfully installed investpy-1.0.8\n",
      "Note: you may need to restart the kernel to use updated packages.\n"
     ]
    }
   ],
   "source": [
    "pip install investpy"
   ]
  },
  {
   "cell_type": "code",
   "execution_count": 13,
   "id": "5dfb2087-1651-46aa-ab9a-e9773bb19867",
   "metadata": {},
   "outputs": [],
   "source": [
    "import yfinance as yf\n",
    "import investpy as invest\n",
    "import pandas as pd \n",
    "import matplotlib.pyplot as plt\n",
    "%matplotlib inline"
   ]
  },
  {
   "cell_type": "code",
   "execution_count": 31,
   "id": "2e17a2f2-c1d7-42de-aebb-27440e79d87f",
   "metadata": {},
   "outputs": [
    {
     "name": "stderr",
     "output_type": "stream",
     "text": [
      "[*********************100%***********************]  1 of 1 completed\n"
     ]
    }
   ],
   "source": [
    "usd = yf.download('DX-Y.NYB')"
   ]
  },
  {
   "cell_type": "code",
   "execution_count": 35,
   "id": "53b2e8ad-9b63-4b5e-b49e-1c92f206974d",
   "metadata": {},
   "outputs": [
    {
     "data": {
      "text/html": [
       "<div>\n",
       "<style scoped>\n",
       "    .dataframe tbody tr th:only-of-type {\n",
       "        vertical-align: middle;\n",
       "    }\n",
       "\n",
       "    .dataframe tbody tr th {\n",
       "        vertical-align: top;\n",
       "    }\n",
       "\n",
       "    .dataframe thead tr th {\n",
       "        text-align: left;\n",
       "    }\n",
       "\n",
       "    .dataframe thead tr:last-of-type th {\n",
       "        text-align: right;\n",
       "    }\n",
       "</style>\n",
       "<table border=\"1\" class=\"dataframe\">\n",
       "  <thead>\n",
       "    <tr>\n",
       "      <th>Price</th>\n",
       "      <th>Close</th>\n",
       "      <th>High</th>\n",
       "      <th>Low</th>\n",
       "      <th>Open</th>\n",
       "      <th>Volume</th>\n",
       "    </tr>\n",
       "    <tr>\n",
       "      <th>Ticker</th>\n",
       "      <th>DX-Y.NYB</th>\n",
       "      <th>DX-Y.NYB</th>\n",
       "      <th>DX-Y.NYB</th>\n",
       "      <th>DX-Y.NYB</th>\n",
       "      <th>DX-Y.NYB</th>\n",
       "    </tr>\n",
       "    <tr>\n",
       "      <th>Date</th>\n",
       "      <th></th>\n",
       "      <th></th>\n",
       "      <th></th>\n",
       "      <th></th>\n",
       "      <th></th>\n",
       "    </tr>\n",
       "  </thead>\n",
       "  <tbody>\n",
       "    <tr>\n",
       "      <th>1971-01-04</th>\n",
       "      <td>120.529999</td>\n",
       "      <td>120.529999</td>\n",
       "      <td>120.529999</td>\n",
       "      <td>120.529999</td>\n",
       "      <td>0</td>\n",
       "    </tr>\n",
       "    <tr>\n",
       "      <th>1971-01-05</th>\n",
       "      <td>120.519997</td>\n",
       "      <td>120.519997</td>\n",
       "      <td>120.519997</td>\n",
       "      <td>120.519997</td>\n",
       "      <td>0</td>\n",
       "    </tr>\n",
       "    <tr>\n",
       "      <th>1971-01-06</th>\n",
       "      <td>120.489998</td>\n",
       "      <td>120.489998</td>\n",
       "      <td>120.489998</td>\n",
       "      <td>120.489998</td>\n",
       "      <td>0</td>\n",
       "    </tr>\n",
       "    <tr>\n",
       "      <th>1971-01-07</th>\n",
       "      <td>120.550003</td>\n",
       "      <td>120.550003</td>\n",
       "      <td>120.550003</td>\n",
       "      <td>120.550003</td>\n",
       "      <td>0</td>\n",
       "    </tr>\n",
       "    <tr>\n",
       "      <th>1971-01-08</th>\n",
       "      <td>120.529999</td>\n",
       "      <td>120.529999</td>\n",
       "      <td>120.529999</td>\n",
       "      <td>120.529999</td>\n",
       "      <td>0</td>\n",
       "    </tr>\n",
       "  </tbody>\n",
       "</table>\n",
       "</div>"
      ],
      "text/plain": [
       "Price            Close        High         Low        Open   Volume\n",
       "Ticker        DX-Y.NYB    DX-Y.NYB    DX-Y.NYB    DX-Y.NYB DX-Y.NYB\n",
       "Date                                                               \n",
       "1971-01-04  120.529999  120.529999  120.529999  120.529999        0\n",
       "1971-01-05  120.519997  120.519997  120.519997  120.519997        0\n",
       "1971-01-06  120.489998  120.489998  120.489998  120.489998        0\n",
       "1971-01-07  120.550003  120.550003  120.550003  120.550003        0\n",
       "1971-01-08  120.529999  120.529999  120.529999  120.529999        0"
      ]
     },
     "execution_count": 35,
     "metadata": {},
     "output_type": "execute_result"
    }
   ],
   "source": [
    "usd.head()"
   ]
  },
  {
   "cell_type": "code",
   "execution_count": 25,
   "id": "2324e738-1d83-43bc-9094-ed27192b4d6a",
   "metadata": {},
   "outputs": [
    {
     "name": "stderr",
     "output_type": "stream",
     "text": [
      "[*********************100%***********************]  1 of 1 completed\n"
     ]
    }
   ],
   "source": [
    "gold = yf.download('GC=F')"
   ]
  },
  {
   "cell_type": "code",
   "execution_count": 39,
   "id": "ebf5055f-03ea-4991-8638-63e31d43fa6b",
   "metadata": {},
   "outputs": [
    {
     "data": {
      "text/html": [
       "<div>\n",
       "<style scoped>\n",
       "    .dataframe tbody tr th:only-of-type {\n",
       "        vertical-align: middle;\n",
       "    }\n",
       "\n",
       "    .dataframe tbody tr th {\n",
       "        vertical-align: top;\n",
       "    }\n",
       "\n",
       "    .dataframe thead tr th {\n",
       "        text-align: left;\n",
       "    }\n",
       "\n",
       "    .dataframe thead tr:last-of-type th {\n",
       "        text-align: right;\n",
       "    }\n",
       "</style>\n",
       "<table border=\"1\" class=\"dataframe\">\n",
       "  <thead>\n",
       "    <tr>\n",
       "      <th>Price</th>\n",
       "      <th>Close</th>\n",
       "      <th>High</th>\n",
       "      <th>Low</th>\n",
       "      <th>Open</th>\n",
       "      <th>Volume</th>\n",
       "    </tr>\n",
       "    <tr>\n",
       "      <th>Ticker</th>\n",
       "      <th>GC=F</th>\n",
       "      <th>GC=F</th>\n",
       "      <th>GC=F</th>\n",
       "      <th>GC=F</th>\n",
       "      <th>GC=F</th>\n",
       "    </tr>\n",
       "    <tr>\n",
       "      <th>Date</th>\n",
       "      <th></th>\n",
       "      <th></th>\n",
       "      <th></th>\n",
       "      <th></th>\n",
       "      <th></th>\n",
       "    </tr>\n",
       "  </thead>\n",
       "  <tbody>\n",
       "    <tr>\n",
       "      <th>2000-08-30</th>\n",
       "      <td>273.899994</td>\n",
       "      <td>273.899994</td>\n",
       "      <td>273.899994</td>\n",
       "      <td>273.899994</td>\n",
       "      <td>0</td>\n",
       "    </tr>\n",
       "    <tr>\n",
       "      <th>2000-08-31</th>\n",
       "      <td>278.299988</td>\n",
       "      <td>278.299988</td>\n",
       "      <td>274.799988</td>\n",
       "      <td>274.799988</td>\n",
       "      <td>0</td>\n",
       "    </tr>\n",
       "    <tr>\n",
       "      <th>2000-09-01</th>\n",
       "      <td>277.000000</td>\n",
       "      <td>277.000000</td>\n",
       "      <td>277.000000</td>\n",
       "      <td>277.000000</td>\n",
       "      <td>0</td>\n",
       "    </tr>\n",
       "    <tr>\n",
       "      <th>2000-09-05</th>\n",
       "      <td>275.799988</td>\n",
       "      <td>275.799988</td>\n",
       "      <td>275.799988</td>\n",
       "      <td>275.799988</td>\n",
       "      <td>2</td>\n",
       "    </tr>\n",
       "    <tr>\n",
       "      <th>2000-09-06</th>\n",
       "      <td>274.200012</td>\n",
       "      <td>274.200012</td>\n",
       "      <td>274.200012</td>\n",
       "      <td>274.200012</td>\n",
       "      <td>0</td>\n",
       "    </tr>\n",
       "  </tbody>\n",
       "</table>\n",
       "</div>"
      ],
      "text/plain": [
       "Price            Close        High         Low        Open Volume\n",
       "Ticker            GC=F        GC=F        GC=F        GC=F   GC=F\n",
       "Date                                                             \n",
       "2000-08-30  273.899994  273.899994  273.899994  273.899994      0\n",
       "2000-08-31  278.299988  278.299988  274.799988  274.799988      0\n",
       "2000-09-01  277.000000  277.000000  277.000000  277.000000      0\n",
       "2000-09-05  275.799988  275.799988  275.799988  275.799988      2\n",
       "2000-09-06  274.200012  274.200012  274.200012  274.200012      0"
      ]
     },
     "execution_count": 39,
     "metadata": {},
     "output_type": "execute_result"
    }
   ],
   "source": [
    "gold.head()"
   ]
  },
  {
   "cell_type": "code",
   "execution_count": 200,
   "id": "b3f5c9d0-ba40-43ad-9e1e-3d24f9049d1c",
   "metadata": {},
   "outputs": [],
   "source": [
    "ir = pd.read_csv('IR.csv')"
   ]
  },
  {
   "cell_type": "code",
   "execution_count": 202,
   "id": "d63f9df9-7de4-49db-884d-10565a1273d2",
   "metadata": {},
   "outputs": [],
   "source": [
    "ir = ir.rename(columns = {'observation_date':'Date','DFEDTARU':'IR'})"
   ]
  },
  {
   "cell_type": "code",
   "execution_count": 204,
   "id": "88b6d124-7139-4235-9f85-5e9f46eb51be",
   "metadata": {},
   "outputs": [],
   "source": [
    "ir['Date'] = pd.to_datetime(ir['Date'])"
   ]
  },
  {
   "cell_type": "code",
   "execution_count": 206,
   "id": "181d0d0b-8fcc-446a-accb-5c7baffb6a55",
   "metadata": {},
   "outputs": [
    {
     "data": {
      "text/plain": [
       "Date    datetime64[ns]\n",
       "IR             float64\n",
       "dtype: object"
      ]
     },
     "execution_count": 206,
     "metadata": {},
     "output_type": "execute_result"
    }
   ],
   "source": [
    "ir.dtypes"
   ]
  },
  {
   "cell_type": "code",
   "execution_count": 208,
   "id": "b814e0c2-a285-4fbf-aecb-f15f9c0e31d1",
   "metadata": {},
   "outputs": [],
   "source": [
    "ir = ir.set_index('Date')"
   ]
  },
  {
   "cell_type": "code",
   "execution_count": 153,
   "id": "88138b9e-51b0-43e3-b0c0-158f3d795e39",
   "metadata": {},
   "outputs": [],
   "source": [
    "gold.columns = gold.columns.droplevel(1)\n",
    "usd.columns = usd.columns.droplevel(1)"
   ]
  },
  {
   "cell_type": "code",
   "execution_count": 176,
   "id": "2e7bd79e-2f8b-4282-a996-c3a27dde2e9d",
   "metadata": {},
   "outputs": [],
   "source": [
    "usd = usd.loc['2010-01-01':'2020-01-01']\n",
    "gold = gold.loc['2010-01-01':'2020-01-01']"
   ]
  },
  {
   "cell_type": "code",
   "execution_count": 210,
   "id": "557053a0-87d6-4257-8876-3d273644b602",
   "metadata": {},
   "outputs": [],
   "source": [
    "ir = ir.loc['2010-01-01':'2020-01-01']"
   ]
  },
  {
   "cell_type": "code",
   "execution_count": 224,
   "id": "024354aa-e472-4fcc-8b0b-56f78a7617e9",
   "metadata": {},
   "outputs": [],
   "source": [
    "ir = ir.iloc[:-1]"
   ]
  },
  {
   "cell_type": "code",
   "execution_count": 240,
   "id": "0674d726-54c2-46d8-9308-c2a85fef7a07",
   "metadata": {},
   "outputs": [],
   "source": [
    "x = pd.merge(gold, usd, left_index=True, right_index=True)\n"
   ]
  },
  {
   "cell_type": "code",
   "execution_count": 244,
   "id": "c279ace4-b885-48fd-b7bc-71cf7ff86744",
   "metadata": {},
   "outputs": [],
   "source": [
    "x.columns = x.columns.str.replace('_x', '_g').str.replace('_y', '_u')"
   ]
  },
  {
   "cell_type": "code",
   "execution_count": 250,
   "id": "58ec8a97-10ee-4514-87e9-bb8db2981d08",
   "metadata": {},
   "outputs": [],
   "source": [
    "df = pd.merge(x,ir,left_index=True, right_index=True)"
   ]
  },
  {
   "cell_type": "code",
   "execution_count": 266,
   "id": "5d5652d4-605d-4132-8d3e-68bb09d1880f",
   "metadata": {},
   "outputs": [
    {
     "data": {
      "text/html": [
       "<div>\n",
       "<style scoped>\n",
       "    .dataframe tbody tr th:only-of-type {\n",
       "        vertical-align: middle;\n",
       "    }\n",
       "\n",
       "    .dataframe tbody tr th {\n",
       "        vertical-align: top;\n",
       "    }\n",
       "\n",
       "    .dataframe thead th {\n",
       "        text-align: right;\n",
       "    }\n",
       "</style>\n",
       "<table border=\"1\" class=\"dataframe\">\n",
       "  <thead>\n",
       "    <tr style=\"text-align: right;\">\n",
       "      <th></th>\n",
       "      <th>Open_g</th>\n",
       "      <th>Open_u</th>\n",
       "    </tr>\n",
       "  </thead>\n",
       "  <tbody>\n",
       "    <tr>\n",
       "      <th>Open_g</th>\n",
       "      <td>1.000000</td>\n",
       "      <td>-0.531548</td>\n",
       "    </tr>\n",
       "    <tr>\n",
       "      <th>Open_u</th>\n",
       "      <td>-0.531548</td>\n",
       "      <td>1.000000</td>\n",
       "    </tr>\n",
       "  </tbody>\n",
       "</table>\n",
       "</div>"
      ],
      "text/plain": [
       "          Open_g    Open_u\n",
       "Open_g  1.000000 -0.531548\n",
       "Open_u -0.531548  1.000000"
      ]
     },
     "execution_count": 266,
     "metadata": {},
     "output_type": "execute_result"
    }
   ],
   "source": [
    "df[['Open_g', 'Open_u']].corr()"
   ]
  },
  {
   "cell_type": "code",
   "execution_count": 270,
   "id": "235c1c73-df6a-4692-8315-957690132a84",
   "metadata": {},
   "outputs": [],
   "source": [
    "from sklearn.preprocessing import StandardScaler\n",
    "sc = StandardScaler()\n"
   ]
  },
  {
   "cell_type": "code",
   "execution_count": 278,
   "id": "8124789b-1205-41e4-901c-c6987d455ccb",
   "metadata": {},
   "outputs": [],
   "source": [
    "df[['Open_g', 'Open_u', 'IR']] = sc.fit_transform(df[['Open_g', 'Open_u', 'IR']])"
   ]
  },
  {
   "cell_type": "code",
   "execution_count": 312,
   "id": "41d3f1f9-f092-4d3e-9cb4-eefb3461d927",
   "metadata": {},
   "outputs": [
    {
     "data": {
      "image/png": "[encoded data removed]",
      "text/plain": [
       "<Figure size 1200x600 with 1 Axes>"
      ]
     },
     "metadata": {},
     "output_type": "display_data"
    }
   ],
   "source": [
    "\n",
    "ax = df[['Open_g', 'Open_u']].plot(figsize=(12, 6), xlim=('2015-01-01', '2020-01-01'), color=['orange', 'green'])\n",
    "\n",
    "# Detect IR changes\n",
    "changes = df['IR'].ne(df['IR'].shift())  # True where IR changes\n",
    "change_dates = df.index[changes]\n",
    "\n",
    "# Loop through change points\n",
    "for i in range(1, len(change_dates)):\n",
    "    prev_val = df['IR'].loc[change_dates[i - 1]]\n",
    "    curr_val = df['IR'].loc[change_dates[i]]\n",
    "\n",
    "    # Green line for positive change, Red line for negative change\n",
    "    color = 'green' if curr_val > prev_val else 'red'\n",
    "    \n",
    "    plt.axvline(x=change_dates[i], color=color, linestyle='--', alpha=0.7)\n",
    "\n",
    "plt.show()\n"
   ]
  },
  {
   "cell_type": "code",
   "execution_count": null,
   "id": "5b067227-261f-4b49-8551-51ecec9ef259",
   "metadata": {},
   "outputs": [],
   "source": []
  }
 ],
 "metadata": {
  "kernelspec": {
   "display_name": "Python [conda env:base] *",
   "language": "python",
   "name": "conda-base-py"
  },
  "language_info": {
   "codemirror_mode": {
    "name": "ipython",
    "version": 3
   },
   "file_extension": ".py",
   "mimetype": "text/x-python",
   "name": "python",
   "nbconvert_exporter": "python",
   "pygments_lexer": "ipython3",
   "version": "3.12.7"
  }
 },
 "nbformat": 4,
 "nbformat_minor": 5
}

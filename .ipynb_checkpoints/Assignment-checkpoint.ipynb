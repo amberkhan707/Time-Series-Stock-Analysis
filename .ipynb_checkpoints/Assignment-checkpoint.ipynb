{
 "cells": [
  {
   "cell_type": "markdown",
   "id": "4b36b914-5665-44d6-8091-67a97664304c",
   "metadata": {},
   "source": [
    "## Assignment "
   ]
  },
  {
   "cell_type": "code",
   "execution_count": 2,
   "id": "901c59bc-29c8-4d0b-8a00-1664a8b24932",
   "metadata": {},
   "outputs": [],
   "source": [
    "import yfinance as yf \n",
    "import pandas as pd \n",
    "import matplotlib.pyplot as plt\n",
    "%matplotlib inline"
   ]
  },
  {
   "cell_type": "markdown",
   "id": "eaf32625-a14f-4d2b-b4c0-64186c5ed9b7",
   "metadata": {},
   "source": [
    "Task 1"
   ]
  },
  {
   "cell_type": "code",
   "execution_count": 3,
   "id": "cd827c68-89b3-43c7-8081-ea07f97eb196",
   "metadata": {},
   "outputs": [
    {
     "name": "stdout",
     "output_type": "stream",
     "text": [
      "YF.download() has changed argument auto_adjust default to True\n"
     ]
    },
    {
     "name": "stderr",
     "output_type": "stream",
     "text": [
      "[*********************100%***********************]  1 of 1 completed\n"
     ]
    }
   ],
   "source": [
    "df = yf.download('MSFT')"
   ]
  },
  {
   "cell_type": "code",
   "execution_count": 13,
   "id": "fdba0276-5d0f-4ac0-9896-259406ced7a6",
   "metadata": {},
   "outputs": [],
   "source": [
    "df = df.reset_index()"
   ]
  },
  {
   "cell_type": "code",
   "execution_count": 19,
   "id": "57338525-8e1f-4766-8b18-75e1e6695266",
   "metadata": {},
   "outputs": [],
   "source": [
    "df.columns = df.columns.droplevel(1)"
   ]
  },
  {
   "cell_type": "code",
   "execution_count": 27,
   "id": "f7af4630-9b27-4bbd-8aa7-74e30b680f9e",
   "metadata": {},
   "outputs": [],
   "source": [
    "df.head();"
   ]
  },
  {
   "cell_type": "code",
   "execution_count": 29,
   "id": "e017df5a-94b4-49c8-941a-be88a5464428",
   "metadata": {},
   "outputs": [],
   "source": [
    "df = df.set_index('Date');"
   ]
  },
  {
   "cell_type": "code",
   "execution_count": 31,
   "id": "78af557c-61f5-409e-8c3f-0729aeffe991",
   "metadata": {},
   "outputs": [],
   "source": [
    "df = df.loc['2017-01-01':'2023-01-01']"
   ]
  },
  {
   "cell_type": "code",
   "execution_count": 38,
   "id": "a8fa3e08-25f1-4351-8d5e-71527d57e555",
   "metadata": {},
   "outputs": [
    {
     "data": {
      "text/html": [
       "<div>\n",
       "<style scoped>\n",
       "    .dataframe tbody tr th:only-of-type {\n",
       "        vertical-align: middle;\n",
       "    }\n",
       "\n",
       "    .dataframe tbody tr th {\n",
       "        vertical-align: top;\n",
       "    }\n",
       "\n",
       "    .dataframe thead th {\n",
       "        text-align: right;\n",
       "    }\n",
       "</style>\n",
       "<table border=\"1\" class=\"dataframe\">\n",
       "  <thead>\n",
       "    <tr style=\"text-align: right;\">\n",
       "      <th>Price</th>\n",
       "      <th>Close</th>\n",
       "      <th>High</th>\n",
       "      <th>Low</th>\n",
       "      <th>Open</th>\n",
       "      <th>Volume</th>\n",
       "    </tr>\n",
       "    <tr>\n",
       "      <th>Date</th>\n",
       "      <th></th>\n",
       "      <th></th>\n",
       "      <th></th>\n",
       "      <th></th>\n",
       "      <th></th>\n",
       "    </tr>\n",
       "  </thead>\n",
       "  <tbody>\n",
       "    <tr>\n",
       "      <th>2017-01-03</th>\n",
       "      <td>56.601139</td>\n",
       "      <td>56.836297</td>\n",
       "      <td>56.194131</td>\n",
       "      <td>56.791075</td>\n",
       "      <td>20694100</td>\n",
       "    </tr>\n",
       "    <tr>\n",
       "      <th>2017-01-04</th>\n",
       "      <td>56.347874</td>\n",
       "      <td>56.754881</td>\n",
       "      <td>56.185071</td>\n",
       "      <td>56.510677</td>\n",
       "      <td>21340000</td>\n",
       "    </tr>\n",
       "  </tbody>\n",
       "</table>\n",
       "</div>"
      ],
      "text/plain": [
       "Price           Close       High        Low       Open    Volume\n",
       "Date                                                            \n",
       "2017-01-03  56.601139  56.836297  56.194131  56.791075  20694100\n",
       "2017-01-04  56.347874  56.754881  56.185071  56.510677  21340000"
      ]
     },
     "execution_count": 38,
     "metadata": {},
     "output_type": "execute_result"
    }
   ],
   "source": [
    "df.head(2)"
   ]
  },
  {
   "cell_type": "markdown",
   "id": "4cd98bc1-8eea-43a3-99aa-7bf320c69133",
   "metadata": {},
   "source": [
    "Task 2"
   ]
  },
  {
   "cell_type": "code",
   "execution_count": 40,
   "id": "04072958-f33a-4fb3-9d02-d172a4c3b4aa",
   "metadata": {},
   "outputs": [
    {
     "data": {
      "text/plain": [
       "340.1485931428853"
      ]
     },
     "execution_count": 40,
     "metadata": {},
     "output_type": "execute_result"
    }
   ],
   "source": [
    "df['High'].max()"
   ]
  },
  {
   "cell_type": "markdown",
   "id": "bbaf95d6-1874-402a-a8e2-f99520d4d73c",
   "metadata": {},
   "source": [
    "Task 3"
   ]
  },
  {
   "cell_type": "code",
   "execution_count": 61,
   "id": "9292bf0b-4551-4b3c-b03c-8541e9af233c",
   "metadata": {},
   "outputs": [
    {
     "data": {
      "text/html": [
       "<div>\n",
       "<style scoped>\n",
       "    .dataframe tbody tr th:only-of-type {\n",
       "        vertical-align: middle;\n",
       "    }\n",
       "\n",
       "    .dataframe tbody tr th {\n",
       "        vertical-align: top;\n",
       "    }\n",
       "\n",
       "    .dataframe thead th {\n",
       "        text-align: right;\n",
       "    }\n",
       "</style>\n",
       "<table border=\"1\" class=\"dataframe\">\n",
       "  <thead>\n",
       "    <tr style=\"text-align: right;\">\n",
       "      <th>Price</th>\n",
       "      <th>Close</th>\n",
       "      <th>High</th>\n",
       "      <th>Low</th>\n",
       "      <th>Open</th>\n",
       "      <th>Volume</th>\n",
       "    </tr>\n",
       "    <tr>\n",
       "      <th>Date</th>\n",
       "      <th></th>\n",
       "      <th></th>\n",
       "      <th></th>\n",
       "      <th></th>\n",
       "      <th></th>\n",
       "    </tr>\n",
       "  </thead>\n",
       "  <tbody>\n",
       "    <tr>\n",
       "      <th>2017-01-12</th>\n",
       "      <td>56.628262</td>\n",
       "      <td>57.342786</td>\n",
       "      <td>56.031318</td>\n",
       "      <td>57.035269</td>\n",
       "      <td>20968200</td>\n",
       "    </tr>\n",
       "  </tbody>\n",
       "</table>\n",
       "</div>"
      ],
      "text/plain": [
       "Price           Close       High        Low       Open    Volume\n",
       "Date                                                            \n",
       "2017-01-12  56.628262  57.342786  56.031318  57.035269  20968200"
      ]
     },
     "execution_count": 61,
     "metadata": {},
     "output_type": "execute_result"
    }
   ],
   "source": [
    "df[df['Low']== 56.031317888977405]"
   ]
  },
  {
   "cell_type": "markdown",
   "id": "190b8db9-436a-4141-a899-0c80706ca55d",
   "metadata": {},
   "source": [
    "Task 4 "
   ]
  },
  {
   "cell_type": "code",
   "execution_count": 65,
   "id": "98302edb-6cf7-4d5f-9aa0-28acb8b0518e",
   "metadata": {},
   "outputs": [
    {
     "data": {
      "text/html": [
       "<div>\n",
       "<style scoped>\n",
       "    .dataframe tbody tr th:only-of-type {\n",
       "        vertical-align: middle;\n",
       "    }\n",
       "\n",
       "    .dataframe tbody tr th {\n",
       "        vertical-align: top;\n",
       "    }\n",
       "\n",
       "    .dataframe thead th {\n",
       "        text-align: right;\n",
       "    }\n",
       "</style>\n",
       "<table border=\"1\" class=\"dataframe\">\n",
       "  <thead>\n",
       "    <tr style=\"text-align: right;\">\n",
       "      <th>Price</th>\n",
       "      <th>Close</th>\n",
       "      <th>High</th>\n",
       "      <th>Low</th>\n",
       "      <th>Open</th>\n",
       "      <th>Volume</th>\n",
       "    </tr>\n",
       "    <tr>\n",
       "      <th>Date</th>\n",
       "      <th></th>\n",
       "      <th></th>\n",
       "      <th></th>\n",
       "      <th></th>\n",
       "      <th></th>\n",
       "    </tr>\n",
       "  </thead>\n",
       "  <tbody>\n",
       "    <tr>\n",
       "      <th>2021-11-22</th>\n",
       "      <td>330.576508</td>\n",
       "      <td>340.148593</td>\n",
       "      <td>330.304133</td>\n",
       "      <td>335.236085</td>\n",
       "      <td>31031100</td>\n",
       "    </tr>\n",
       "  </tbody>\n",
       "</table>\n",
       "</div>"
      ],
      "text/plain": [
       "Price            Close        High         Low        Open    Volume\n",
       "Date                                                                \n",
       "2021-11-22  330.576508  340.148593  330.304133  335.236085  31031100"
      ]
     },
     "execution_count": 65,
     "metadata": {},
     "output_type": "execute_result"
    }
   ],
   "source": [
    "df[df['High']==340.1485931428853]"
   ]
  },
  {
   "cell_type": "code",
   "execution_count": null,
   "id": "97a5d9cb-a9c9-4fee-896a-cb129c165309",
   "metadata": {},
   "outputs": [],
   "source": []
  },
  {
   "cell_type": "code",
   "execution_count": null,
   "id": "307cdfed-a82b-4afe-87ce-a617ce30821f",
   "metadata": {},
   "outputs": [],
   "source": []
  }
 ],
 "metadata": {
  "kernelspec": {
   "display_name": "Python [conda env:base] *",
   "language": "python",
   "name": "conda-base-py"
  },
  "language_info": {
   "codemirror_mode": {
    "name": "ipython",
    "version": 3
   },
   "file_extension": ".py",
   "mimetype": "text/x-python",
   "name": "python",
   "nbconvert_exporter": "python",
   "pygments_lexer": "ipython3",
   "version": "3.12.7"
  }
 },
 "nbformat": 4,
 "nbformat_minor": 5
}
